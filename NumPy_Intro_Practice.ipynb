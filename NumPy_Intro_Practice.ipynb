{
  "nbformat": 4,
  "nbformat_minor": 0,
  "metadata": {
    "colab": {
      "name": "NumPy Intro - Practice",
      "provenance": [],
      "authorship_tag": "ABX9TyPtYbnpcLF5Jxp/OcvkS2fF",
      "include_colab_link": true
    },
    "kernelspec": {
      "name": "python3",
      "display_name": "Python 3"
    },
    "language_info": {
      "name": "python"
    }
  },
  "cells": [
    {
      "cell_type": "markdown",
      "metadata": {
        "id": "view-in-github",
        "colab_type": "text"
      },
      "source": [
        "<a href=\"https://colab.research.google.com/github/jasminjoy-S/Data/blob/main/NumPy_Intro_Practice.ipynb\" target=\"_parent\"><img src=\"https://colab.research.google.com/assets/colab-badge.svg\" alt=\"Open In Colab\"/></a>"
      ]
    },
    {
      "cell_type": "code",
      "execution_count": 4,
      "metadata": {
        "id": "1S7w6Y3VrCDv"
      },
      "outputs": [],
      "source": [
        "import sys\n",
        "import numpy as np"
      ]
    },
    {
      "cell_type": "code",
      "source": [
        "a = np.array([1,2,3,4])\n",
        "a[0]"
      ],
      "metadata": {
        "colab": {
          "base_uri": "https://localhost:8080/"
        },
        "id": "3saEW8LqvYKU",
        "outputId": "ed60b9ca-be5d-455b-8d39-c4a27c8ecfb7"
      },
      "execution_count": 5,
      "outputs": [
        {
          "output_type": "execute_result",
          "data": {
            "text/plain": [
              "1"
            ]
          },
          "metadata": {},
          "execution_count": 5
        }
      ]
    },
    {
      "cell_type": "code",
      "source": [
        "a[0:]"
      ],
      "metadata": {
        "colab": {
          "base_uri": "https://localhost:8080/"
        },
        "id": "payf28xcwWtj",
        "outputId": "4bb25169-e855-43b2-db41-e370e6fb7629"
      },
      "execution_count": 6,
      "outputs": [
        {
          "output_type": "execute_result",
          "data": {
            "text/plain": [
              "array([1, 2, 3, 4])"
            ]
          },
          "metadata": {},
          "execution_count": 6
        }
      ]
    },
    {
      "cell_type": "code",
      "source": [
        "a[1:-1]"
      ],
      "metadata": {
        "colab": {
          "base_uri": "https://localhost:8080/"
        },
        "id": "uEyItPYKQ0UK",
        "outputId": "b2f8edae-0a71-430f-9c6f-d4f232013e41"
      },
      "execution_count": 7,
      "outputs": [
        {
          "output_type": "execute_result",
          "data": {
            "text/plain": [
              "array([2, 3])"
            ]
          },
          "metadata": {},
          "execution_count": 7
        }
      ]
    },
    {
      "cell_type": "markdown",
      "source": [
        "python slice notation - a[:-1] -> it returns all elements [:] except the last one '-1'\n",
        "\n",
        "For example,\n",
        "\n",
        "\n",
        "```\n",
        "a = [1,2,3,4,5,6]\n",
        "a[:-1]\n",
        "[1, 2, 3, 4, 5] #output\n",
        "```\n",
        "\n",
        "It works like this\n",
        "\n",
        "\n",
        "**a[start:end]**\n",
        "\n",
        "\n",
        "```\n",
        "a[1:2]\n",
        "[2]\n",
        "```\n",
        "\n",
        "\n",
        "**a[start:]**\n",
        "\n",
        "```\n",
        "a[1:]\n",
        "[2, 3, 4, 5, 6]\n",
        "```\n",
        "\n",
        "**a[:end]**\n",
        "\n",
        "```\n",
        "a = [1,2,3,4,5,6]\n",
        "a[:-1]\n",
        "[1, 2, 3, 4, 5]\n",
        "```\n",
        "\n",
        "**a[:]**\n",
        "```\n",
        " a[:]\n",
        "[1, 2, 3, 4, 5, 6]\n",
        "```"
      ],
      "metadata": {
        "id": "8ReNzi65QrYV"
      }
    }
  ]
}